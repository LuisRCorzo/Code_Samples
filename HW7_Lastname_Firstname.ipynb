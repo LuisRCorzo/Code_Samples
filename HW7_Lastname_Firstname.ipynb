{
 "cells": [
  {
   "cell_type": "markdown",
   "metadata": {},
   "source": [
    "<a id='top'></a>\n",
    "\n",
    "# CSCI3022 S21\n",
    "# Homework 7: Regression Practice\n",
    "***\n",
    "\n",
    "**Name**: Luis R. Corzo\n",
    "\n",
    "***\n",
    "\n",
    "This assignment is due on Canvas by **MIDNIGHT on Friday, April 22**. Your solutions to theoretical questions should be done in Markdown directly below the associated question.  Your solutions to computational questions should include any specified Python code and results as well as written commentary on your conclusions.  Remember that you are encouraged to discuss the problems with your classmates, but **you must write all code and solutions on your own**.\n",
    "\n",
    "**NOTES**: \n",
    "\n",
    "- Any relevant data sets should be available on Canvas. To make life easier on the graders if they need to run your code, do not change the relative path names here. Instead, move the files around on your computer.\n",
    "- If you're not familiar with typesetting math directly into Markdown then by all means, do your work on paper first and then typeset it later.  Here is a [reference guide](https://math.meta.stackexchange.com/questions/5020/mathjax-basic-tutorial-and-quick-reference) linked on Canvas on writing math in Markdown. **All** of your written commentary, justifications and mathematical work should be in Markdown.  I also recommend the [wikibook](https://en.wikibooks.org/wiki/LaTeX) for LaTex.\n",
    "- Because you can technically evaluate notebook cells is a non-linear order, it's a good idea to do **Kernel $\\rightarrow$ Restart & Run All** as a check before submitting your solutions.  That way if we need to run your code you will know that it will work as expected. \n",
    "- It is **bad form** to make your reader interpret numerical output from your code.  If a question asks you to compute some value from the data you should show your code output **AND** write a summary of the results in Markdown directly below your code. \n",
    "- 45 points of this assignment are in problems.  The remaining 5 are for neatness, style, and overall exposition of both code and text.\n",
    "- This probably goes without saying, but... For any question that asks you to calculate something, you **must show all work and justify your answers to receive credit**. Sparse or nonexistent work will receive sparse or nonexistent credit. \n",
    "\n",
    "---\n",
    "**Shortcuts:**  [Data Set 1](#p1) | [Data Set 2](#p2) | [Data Set 3](#p3) |  [Data Set 4](#p4) |\n",
    "---"
   ]
  },
  {
   "cell_type": "code",
   "execution_count": 57,
   "metadata": {},
   "outputs": [],
   "source": [
    "#old salwarts\n",
    "import pandas as pd\n",
    "import numpy as np\n",
    "import matplotlib.pylab as plt\n",
    "import scipy.stats as stats\n",
    "%matplotlib inline\n",
    "\n",
    "#new friends\n",
    "import seaborn as sns\n",
    "import statsmodels.api as sm #this line is now always in our opener\n",
    "from statsmodels.stats.outliers_influence import summary_table\n",
    "from patsy import dmatrices # for making design matrices out of categorical features #instead of sm.add_constant\n"
   ]
  },
  {
   "cell_type": "code",
   "execution_count": null,
   "metadata": {},
   "outputs": [],
   "source": []
  },
  {
   "cell_type": "markdown",
   "metadata": {},
   "source": [
    "## [All problems: 11 points/ea]\n",
    "**Shortcuts:**  [1](#p1) | [2](#p2) | [3](#p3) | [4](#p4) |\n",
    "\n",
    "\n",
    "Run the cell below to load in the data set known as \"Anscombe's Quartet.\"  It contains 4 data sets, each with its own set of $x$ and $y$ values.\n",
    "\n",
    "\n",
    "Each data set has exactly 11 observations.  For each data set, you will perform the same steps of visualizing and fitting a linear model."
   ]
  },
  {
   "cell_type": "code",
   "execution_count": 58,
   "metadata": {},
   "outputs": [
    {
     "name": "stdout",
     "output_type": "stream",
     "text": [
      "  dataset     x     y\n",
      "0       I  10.0  8.04\n",
      "1       I   8.0  6.95\n",
      "2       I  13.0  7.58\n",
      "3       I   9.0  8.81\n",
      "4       I  11.0  8.33\n"
     ]
    }
   ],
   "source": [
    "df = sns.load_dataset(\"anscombe\")\n",
    "\n",
    "print(df.head())\n",
    "df['dataset'].unique()\n",
    "\n",
    "df1 = df.loc[0:10]\n",
    "\n",
    "#print(df)"
   ]
  },
  {
   "cell_type": "markdown",
   "metadata": {},
   "source": [
    "<br>\n",
    "\n",
    "---\n",
    "<a/ id='p1'></a>\n",
    "[Back to top](#top)\n",
    "## [25 points] Data Set 1\n",
    "\n",
    "For the data set marked with \"I\" in the given data frame,  perform a regression analysis.  Use markdown to clearly mark each step.\n",
    "\n",
    "\n",
    "#### Part A: Make a scatter plot of the data set and overlay the line of best least-squares fit.  Print the summary table, and write the final model in a markdown cell."
   ]
  },
  {
   "cell_type": "code",
   "execution_count": 85,
   "metadata": {},
   "outputs": [
    {
     "name": "stdout",
     "output_type": "stream",
     "text": [
      "Summary table: \n",
      "\n",
      "Intercept: 2.55001  Std error: 1.41867  \n",
      "\n",
      "Slope: 0.55010  Std error: 0.14872  \n",
      "\n",
      "Sigma hat squared: 1.55975  \n",
      "\n",
      "Coefficient of determiation (Goodness-of-fit):  0.65988\n",
      "\n",
      "\n"
     ]
    },
    {
     "data": {
      "image/png": "[encoded data removed]",
      "text/plain": [
       "<Figure size 504x504 with 1 Axes>"
      ]
     },
     "metadata": {
      "needs_background": "light"
     },
     "output_type": "display_data"
    }
   ],
   "source": [
    "df1 = df.loc[0:10]\n",
    "\n",
    "x1 = df1.iloc[0:11,1]\n",
    "y1 = df1.iloc[0:11,2]\n",
    "n = len(x1)\n",
    "\n",
    "plt.subplots(nrows=1, ncols=1, figsize=(7,7)) \n",
    "plt.scatter(x1, y1,22, c = \"red\")\n",
    "\n",
    "###################################################\n",
    "\n",
    "def computeLine(x_sample, y_sample,n):\n",
    "    \n",
    "    std_x = np.std(x_sample)\n",
    "    mean_x = np.mean(x_sample)\n",
    "    \n",
    "    std_y = np.std(y_sample)\n",
    "    mean_y = np.mean(y_sample)\n",
    "    \n",
    "    z_vals = []\n",
    "    \n",
    "    for i in range(n):\n",
    "        \n",
    "        z_val1 = (x_sample[i] - mean_x)/std_x\n",
    "        z_val2 = (y_sample[i] - mean_y)/std_y\n",
    "        \n",
    "        product = z_val1 * z_val2\n",
    "        z_vals.append(product)\n",
    "    \n",
    "    sumation = np.sum(z_vals)\n",
    "    \n",
    "    r =  sumation/(n-1)\n",
    "    \n",
    "    m = r * (std_y / std_x)\n",
    "    \n",
    "    b = mean_y - (m * mean_x)\n",
    "    \n",
    "    return m, b\n",
    "\n",
    "###################################################\n",
    "\n",
    "def computeVar_hat(x_sample, y_sample, n, m, b):\n",
    "    \n",
    "    rss = []\n",
    "    \n",
    "    for i in range(n):\n",
    "        \n",
    "        y_hat = m * x_sample[i] + b\n",
    "        \n",
    "        rss.append((y_sample[i] - y_hat)**2) \n",
    "    \n",
    "    var_hat = np.sum(rss)/(n-2)\n",
    "    \n",
    "    return var_hat\n",
    "\n",
    "###################################################\n",
    "\n",
    "def computeR_sq(x_sample, y_sample, n, m, b):\n",
    "\n",
    "    sse = []\n",
    "    sst = []\n",
    "    \n",
    "    mean_y = np.mean(y_sample)\n",
    "    \n",
    "    for i in range(n):\n",
    "        \n",
    "        y_hat = m * x_sample[i] + b\n",
    "        \n",
    "        sse.append((y_hat - y_sample[i])**2) \n",
    "        sst.append((y_sample[i] - mean_y)**2) \n",
    "    \n",
    "    \n",
    "    sse = np.sum(sse)\n",
    "    sst = np.sum(sst)\n",
    "    \n",
    "    ret = 1 - (sse/sst)\n",
    "    return ret\n",
    "\n",
    "###################################################\n",
    "\n",
    "def computeSE_Estimators(x_sample, y_sample, n, m, b):\n",
    "    \n",
    "    sse = []\n",
    "    temp =[]\n",
    "    mean_y = np.mean(y_sample)\n",
    "    mean_x = np.mean(x_sample)\n",
    "    \n",
    "    for i in range(n):\n",
    "        \n",
    "        y_hat = m * x_sample[i] + b\n",
    "        \n",
    "        sse.append((y_hat - y_sample[i])**2)\n",
    "        temp.append((x_sample[i] - mean_x)**2)\n",
    "    \n",
    "    sse = np.sum(sse)\n",
    "    temp = np.sum(temp)\n",
    "    \n",
    "    s = sse/(n-2)\n",
    "    \n",
    "    SE_beta0_hat = s * np.sqrt((1/n)+((mean_x**2)/temp))\n",
    "    SE_beta1_hat = s * np.sqrt(1/temp)\n",
    "    \n",
    "    return SE_beta0_hat, SE_beta1_hat\n",
    "    \n",
    "\n",
    "###################################################\n",
    "\n",
    "m,b = computeLine(x1, y1, n)\n",
    "\n",
    "var_hat = computeVar_hat(x1, y1, n, m, b)\n",
    "R_sq = computeR_sq(x1, y1, n, m, b)\n",
    "SE_estimators = computeSE_Estimators(x1, y1, n, m, b)\n",
    "\n",
    "\n",
    "plt.plot(x1, m*x1+b, c = \"b\")\n",
    "\n",
    "###################################################\n",
    "print(\"Summary table: \")\n",
    "\n",
    "print(\"\\nIntercept:\", format(b, '.5f'), \" Std error:\", format(SE_estimators[0], '.5f'),\" \\n\\nSlope:\", format(m, '.5f'), \" Std error:\", format(SE_estimators[1], '.5f'), \" \\n\\nSigma hat squared:\", format(var_hat, '.5f'), \" \\n\\nCoefficient of determiation (Goodness-of-fit): \", format(R_sq, '.5f'))\n",
    "\n",
    "print(\"\\n\")\n",
    "\n",
    "\n",
    "plt.xlim([3.9, 14.1])\n",
    "plt.show()"
   ]
  },
  {
   "cell_type": "markdown",
   "metadata": {},
   "source": [
    "- linear model:\n",
    "\n",
    "$\n",
    " \\qquad y \\;=\\; 2.55 + 0.55x\n",
    "$"
   ]
  },
  {
   "cell_type": "markdown",
   "metadata": {},
   "source": [
    "\n",
    "#### Part B: Make a scatter plot where the original x-values are the x-axis and the residuals of the line of best least-squares fit are the y-axis."
   ]
  },
  {
   "cell_type": "code",
   "execution_count": 60,
   "metadata": {},
   "outputs": [
    {
     "data": {
      "image/png": "[encoded data removed]",
      "text/plain": [
       "<Figure size 504x504 with 1 Axes>"
      ]
     },
     "metadata": {
      "needs_background": "light"
     },
     "output_type": "display_data"
    }
   ],
   "source": [
    "plt.subplots(nrows=1, ncols=1, figsize=(7,7)) \n",
    "\n",
    "\n",
    "def get_residuals(x1,y1, m, b):\n",
    "    \n",
    "    residuals = []\n",
    "    \n",
    "    for i in range(len(x1)):\n",
    "        \n",
    "        y_hat = m*x1[i]+b\n",
    "            \n",
    "        residual = y1[i] - y_hat\n",
    "        \n",
    "        residuals.append(residual)\n",
    "    \n",
    "    return residuals\n",
    "\n",
    "y_residuals = get_residuals(x1,y1,m,b)\n",
    "\n",
    "plt.scatter(x1, y_residuals ,22, c = \"blue\")\n",
    "\n",
    "plt.plot([-0.1,1,2,3,4,5,6,7,8,9,10,11,12,14,14.1], [0,0,0,0,0,0,0,0,0,0,0,0,0,0,0], c = \"grey\")\n",
    "\n",
    "plt.xlim([3.9, 14.1])\n",
    "plt.ylim([-4, 4])\n",
    "plt.show()"
   ]
  },
  {
   "cell_type": "code",
   "execution_count": 61,
   "metadata": {},
   "outputs": [
    {
     "data": {
      "image/png": "[encoded data removed]",
      "text/plain": [
       "<Figure size 432x288 with 1 Axes>"
      ]
     },
     "metadata": {
      "needs_background": "light"
     },
     "output_type": "display_data"
    }
   ],
   "source": [
    "plt.hist(y_residuals)\n",
    "plt.show()"
   ]
  },
  {
   "cell_type": "markdown",
   "metadata": {},
   "source": [
    "\n",
    "#### Part C: For each of the 4 major assumptions of the simple linear regression model, use your plots in parts A and B to decide whether or not the data set meets those assumptions."
   ]
  },
  {
   "cell_type": "markdown",
   "metadata": {},
   "source": [
    "The 4 major assumptions of the SLR model are the following: \n",
    "- Linear relationship between x and y.\n",
    "- Error/residual independence.\n",
    "- Error/residual homoskedasticity - the errors/residuals have constant variance at every level of x.\n",
    "- Error/residual normaility - the errors/residuals are normally distributed.\n",
    "\n",
    "\n",
    "-The data meets the first assumption because by looking at the plot in part A), we can see that the points fall on the path of a straight line. That is, the data points seem to follow a linear relationship.\n",
    "\n",
    "-The data also meets assumption number 2 because by looking at the plot in B), the residuals do not seem to be following any consecutive patterns. \n",
    "\n",
    "-By looking at the plot in B), I'd say that the data does not meet the third assumption because even though there is no noticeable repeating patterns in the fitted-vals vs residuals scatter plot, the residuals seem to be slightly spreading apart from left to right. (It could be a perception error, anyhow I still want to check if I can fix that slight spreading through transformations.)\n",
    "\n",
    "-Finally, we can also see that the data does not meet the fourth assumption by looking at the the histogram above and the Q-Q plot below. By looking at the histogram above, we can see that the residuals seem to not be following a normal distribution. Similarly, if the sample quantiles compared to the theoretical normal quantiles do not consistently fall close along the Q-Q plot line, we can say that our residuals don't follow a normal distribution. "
   ]
  },
  {
   "cell_type": "code",
   "execution_count": 62,
   "metadata": {},
   "outputs": [
    {
     "data": {
      "image/png": "[encoded data removed]",
      "text/plain": [
       "<Figure size 432x288 with 1 Axes>"
      ]
     },
     "metadata": {
      "needs_background": "light"
     },
     "output_type": "display_data"
    }
   ],
   "source": [
    "a=np.array(y_residuals)\n",
    "sm.qqplot(a, line='45')\n",
    "plt.show()"
   ]
  },
  {
   "cell_type": "markdown",
   "metadata": {},
   "source": [
    "\n",
    "#### Part D: If the data set violated any assumptions in part C, adjust the model accordingly if possible.  Consider removing outliers, adding higher order polynomial terms, etc.  If you adjust the model, make another set of plots as in parts A and B of the new fit and the new residuals."
   ]
  },
  {
   "cell_type": "markdown",
   "metadata": {},
   "source": [
    "- First, I am going to look for outliers to be removed and see if that makes our data meet assumptions 3 and 4. Another way to achieve \"homoskedasticity\" and \"residual normality\" in our data, is to apply non-linear transformations to either one or both of our variables $x$ and $y$.\n",
    "\n",
    "We could take the log, square root, or reciprocal of our variables. For example, for every $x$, we will try to predict the natural log of $y$. Similarly, we can take $ln(x)$ instead of $x$ as our predictor. (-we can also try using squared roots or reciprocals instead of natural logs as in the two previous examples.) I am going to take the log, sq root, and reciprocal of our $x$ and $y$ values to make a new set of y values. Then I will redo our processes in part a) and b) to see if assumptions 3 and 4 are finally met."
   ]
  },
  {
   "cell_type": "code",
   "execution_count": 63,
   "metadata": {},
   "outputs": [
    {
     "name": "stdout",
     "output_type": "stream",
     "text": [
      "IQR: ( 2.9324999999999983 , 11.9525 )\n",
      "\n",
      " No outliers found.\n"
     ]
    }
   ],
   "source": [
    "\n",
    "def look4outliers(y_residuals):\n",
    "    \n",
    "    iqr = stats.iqr(y_residuals)\n",
    "\n",
    "    lower = np.percentile(y_residuals, 25) - (1.5*iqr)\n",
    "    upper = np.percentile(y_residuals, 75) + (1.5*iqr)\n",
    "\n",
    "    print(\"IQR: (\", lower, \",\", upper,\")\")\n",
    "\n",
    "    check = 0\n",
    "    for i in range(len(y_residuals)):\n",
    "\n",
    "        if y_residuals[i] < lower:\n",
    "            print(\"\\n Outlier found: \",y_residuals[i])\n",
    "            check = 1\n",
    "\n",
    "        if y_residuals[i] > upper:\n",
    "            print(\"\\n Outlier found: \",y_residuals[i])\n",
    "            check = 1\n",
    "\n",
    "    if check == 0:\n",
    "        print(\"\\n No outliers found.\")\n",
    "        \n",
    "        \n",
    "look4outliers(y1)"
   ]
  },
  {
   "cell_type": "markdown",
   "metadata": {},
   "source": [
    "- From the code above we can be sure that there are no outliers in our data. Therefore, we should try out the different non-linear transformations on our variables to see if they help with assuring homoskedasticity and residual normality."
   ]
  },
  {
   "cell_type": "code",
   "execution_count": 64,
   "metadata": {},
   "outputs": [
    {
     "name": "stdout",
     "output_type": "stream",
     "text": [
      "Summary table: \n",
      "\n",
      "Intercept: -2.17192 ,  Std error: 2.47832  \n",
      "\n",
      "Slope: 4.54716 ,  Std error: 1.14615  \n",
      "\n",
      "Sigma hat squared: 1.47457  \n",
      "\n",
      "Coefficient of determiation (Goodness-of-fit):  0.67845\n"
     ]
    },
    {
     "data": {
      "image/png": "[encoded data removed]",
      "text/plain": [
       "<Figure size 504x504 with 1 Axes>"
      ]
     },
     "metadata": {
      "needs_background": "light"
     },
     "output_type": "display_data"
    }
   ],
   "source": [
    "y_prime = y1\n",
    "#y_prime = np.log(y1)\n",
    "#y_prime = np.sqrt(y1)\n",
    "#y_prime = 1/y1\n",
    "\n",
    "#x_prime = x1\n",
    "x_prime = np.log(x1)\n",
    "#x_prime = np.sqrt(x1)\n",
    "#x_prime = 1/x1\n",
    "\n",
    "plt.subplots(nrows=1, ncols=1, figsize=(7,7)) \n",
    "plt.scatter(x_prime, y_prime, 22, c = \"red\")\n",
    "\n",
    "###################################################\n",
    "\n",
    "m_prime,b_prime = computeLine(x_prime, y_prime, n)\n",
    "\n",
    "var_hat_prime = computeVar_hat(x_prime, y_prime, n, m_prime, b_prime)\n",
    "\n",
    "R_sq_prime = computeR_sq(x_prime, y_prime, n, m_prime, b_prime)\n",
    "\n",
    "SE_estimators_prime = computeSE_Estimators(x_prime, y_prime, n, m_prime, b_prime)\n",
    "\n",
    "plt.plot(x_prime, m_prime*x_prime+b_prime, c = \"b\")\n",
    "\n",
    "###################################################\n",
    "print(\"Summary table: \")\n",
    "\n",
    "print(\"\\nIntercept:\", format(b_prime, '.5f'),  \",  Std error:\", format(SE_estimators_prime[0], '.5f'), \" \\n\\nSlope:\", format(m_prime, '.5f'), \",  Std error:\", format(SE_estimators_prime[1], '.5f'), \" \\n\\nSigma hat squared:\", format(var_hat_prime, '.5f'), \" \\n\\nCoefficient of determiation (Goodness-of-fit): \", format(R_sq_prime, '.5f'))\n",
    "\n",
    "#plt.xlim([3.9, 14.1])\n",
    "plt.show()"
   ]
  },
  {
   "cell_type": "code",
   "execution_count": 65,
   "metadata": {},
   "outputs": [
    {
     "data": {
      "image/png": "[encoded data removed]",
      "text/plain": [
       "<Figure size 432x288 with 1 Axes>"
      ]
     },
     "metadata": {
      "needs_background": "light"
     },
     "output_type": "display_data"
    }
   ],
   "source": [
    "y_prime_residuals = get_residuals(x_prime, y_prime, m_prime, b_prime)\n",
    "\n",
    "plt.scatter(x_prime, y_prime_residuals ,22, c = \"blue\")\n",
    "\n",
    "#plt.plot([3,15], [0,0], c = \"grey\")\n",
    "plt.plot([1.2,2.8], [0,0], c = \"grey\")\n",
    "\n",
    "#plt.xlim([3.9, 14.1])\n",
    "plt.ylim([-3, 3])\n",
    "plt.show()"
   ]
  },
  {
   "cell_type": "code",
   "execution_count": 66,
   "metadata": {},
   "outputs": [
    {
     "data": {
      "image/png": "[encoded data removed]",
      "text/plain": [
       "<Figure size 432x288 with 1 Axes>"
      ]
     },
     "metadata": {
      "needs_background": "light"
     },
     "output_type": "display_data"
    }
   ],
   "source": [
    "plt.hist(y_prime_residuals)\n",
    "plt.show()"
   ]
  },
  {
   "cell_type": "code",
   "execution_count": 67,
   "metadata": {},
   "outputs": [
    {
     "data": {
      "image/png": "[encoded data removed]",
      "text/plain": [
       "<Figure size 432x288 with 1 Axes>"
      ]
     },
     "metadata": {
      "needs_background": "light"
     },
     "output_type": "display_data"
    }
   ],
   "source": [
    "ap=np.array(y_prime_residuals)\n",
    "sm.qqplot(ap,line='45')\n",
    "plt.show()"
   ]
  },
  {
   "cell_type": "markdown",
   "metadata": {},
   "source": [
    "\n",
    "#### Part E: Write a sentence or two describing your thought process above.  If you did not adjust a model, why not?  If you did, what are the effects?"
   ]
  },
  {
   "cell_type": "markdown",
   "metadata": {},
   "source": [
    "Even though one could argue that the data met assumption 3, I still wanted to check if I could fix that slight spreading-apart behavior. In order to address assumption 4, I took the square root of our independent variable $x$ while leaving the dependent variable $y$ unchanged. By looking at the histogram and Q-Q plot, it looks like we did achieve a better residual normality than in part B)."
   ]
  },
  {
   "cell_type": "markdown",
   "metadata": {},
   "source": [
    "<br>\n",
    "\n",
    "---\n",
    "<a/ id='p2'></a>\n",
    "[Back to top](#top)\n",
    "## [25 points] Data Set 2\n",
    "\n",
    "For the data set marked with \"II\" in the given data frame,  perform a regression analysis.  Use markdown to clearly mark each step.\n",
    "\n",
    "\n",
    "#### Part A: Make a scatter plot of the data set and overlay the line of best least-squares fit.  Print the summary table, and write the final model in a markdown cell."
   ]
  },
  {
   "cell_type": "code",
   "execution_count": 86,
   "metadata": {},
   "outputs": [
    {
     "name": "stdout",
     "output_type": "stream",
     "text": [
      "Summary table: \n",
      "\n",
      "Intercept: 2.55091 ,  Std error: 1.42003  \n",
      "\n",
      "Slope: 0.55000 ,  Std error: 0.14886  \n",
      "\n",
      "Sigma hat squared: 1.56125  \n",
      "\n",
      "Coefficient of determiation (Goodness-of-fit):  0.65958\n"
     ]
    },
    {
     "data": {
      "image/png": "[encoded data removed]",
      "text/plain": [
       "<Figure size 504x504 with 1 Axes>"
      ]
     },
     "metadata": {
      "needs_background": "light"
     },
     "output_type": "display_data"
    }
   ],
   "source": [
    "df2 = df.loc[11:21]\n",
    "\n",
    "x2 = df2.iloc[0:11,1]\n",
    "y2 = df2.iloc[0:11,2]\n",
    "\n",
    "x2 = x2.reset_index(drop=True)\n",
    "y2 = y2.reset_index(drop=True)\n",
    "\n",
    "n2 = len(y2)\n",
    "\n",
    "plt.subplots(nrows=1, ncols=1, figsize=(7,7)) \n",
    "plt.scatter(x2, y2,22, c = \"red\")\n",
    "\n",
    "m2,b2 = computeLine(x2, y2, n2)\n",
    "\n",
    "var_hat2 = computeVar_hat(x2, y2, n2, m2, b2)\n",
    "\n",
    "R_sq2 = computeR_sq(x2, y2, n2, m2, b2)\n",
    "\n",
    "SE_estimators2 = computeSE_Estimators(x2, y2, n2, m2, b2)\n",
    "\n",
    "\n",
    "\n",
    "print(\"Summary table: \")\n",
    "\n",
    "print(\"\\nIntercept:\", format(b2, '.5f'), \",  Std error:\", format(SE_estimators2[0], '.5f'), \" \\n\\nSlope:\", format(m2, '.5f'), \",  Std error:\", format(SE_estimators2[1], '.5f'), \" \\n\\nSigma hat squared:\", format(var_hat2, '.5f'), \" \\n\\nCoefficient of determiation (Goodness-of-fit): \", format(R_sq2, '.5f'))\n",
    "\n",
    "plt.plot(x2, m2*(x2)+b2, c = \"b\")\n",
    "\n",
    "plt.xlim([3.9, 14.1])\n",
    "\n",
    "plt.show()"
   ]
  },
  {
   "cell_type": "markdown",
   "metadata": {},
   "source": [
    "- linear model:\n",
    "\n",
    "$\n",
    " \\qquad y \\;=\\; 2.55 + 0.55x\n",
    "$"
   ]
  },
  {
   "cell_type": "markdown",
   "metadata": {},
   "source": [
    "\n",
    "#### Part B: Make a scatter plot where the original x-values are the x-axis and the residuals of the line of best least-squares fit are the y-axis."
   ]
  },
  {
   "cell_type": "code",
   "execution_count": 69,
   "metadata": {},
   "outputs": [
    {
     "data": {
      "image/png": "[encoded data removed]",
      "text/plain": [
       "<Figure size 432x288 with 1 Axes>"
      ]
     },
     "metadata": {
      "needs_background": "light"
     },
     "output_type": "display_data"
    }
   ],
   "source": [
    "y_residuals2 = get_residuals(x2,y2,m2,b2)\n",
    "\n",
    "plt.scatter(x2, y_residuals2 ,22, c = \"blue\")\n",
    "\n",
    "plt.plot([-0.1,1,2,3,4,5,6,7,8,9,10,11,12,14,14.1], [0,0,0,0,0,0,0,0,0,0,0,0,0,0,0], c = \"grey\")\n",
    "\n",
    "plt.xlim([3.9, 14.1])\n",
    "plt.ylim([-4, 4])\n",
    "plt.show()"
   ]
  },
  {
   "cell_type": "code",
   "execution_count": 70,
   "metadata": {},
   "outputs": [
    {
     "data": {
      "image/png": "[encoded data removed]",
      "text/plain": [
       "<Figure size 432x288 with 1 Axes>"
      ]
     },
     "metadata": {
      "needs_background": "light"
     },
     "output_type": "display_data"
    }
   ],
   "source": [
    "plt.hist(y_residuals2)\n",
    "plt.show()"
   ]
  },
  {
   "cell_type": "markdown",
   "metadata": {},
   "source": [
    "\n",
    "#### Part C: For each of the 4 major assumptions of the simple linear regression model, use your plots in parts A and B to decide whether or not the data set meets those assumptions."
   ]
  },
  {
   "cell_type": "markdown",
   "metadata": {},
   "source": [
    "-The data does not meet the first assumption because by looking at the plot in part A), the points do not fall along the path of a straight line. That is, the data points don't seem to follow a linear relationship.\n",
    "\n",
    "-The data also does not meet assumption number 2 because by looking at the plot in B), the residuals follow the path of an upside down parabola.\n",
    "\n",
    "-By looking at the plot in B), I'd say that the data does not meet the third assumption because the residuals seem to be spreading further apart on the left and right of the plot compared to the residuals close to the center\n",
    "\n",
    "-Finally, we can also see that the data does not meet the fourth assumption by looking at the the histogram above and the Q-Q plot below. By looking at the histogram above, we can see that the residuals do not follow a normal distribution. Similarly, the residual sample quantiles compared to the theoretical normal quantiles do not consistently fall close along the Q-Q plot line. Thus,  we can be assured that the residuals don't follow a normal distribution."
   ]
  },
  {
   "cell_type": "code",
   "execution_count": 71,
   "metadata": {},
   "outputs": [
    {
     "data": {
      "image/png": "[encoded data removed]",
      "text/plain": [
       "<Figure size 432x288 with 1 Axes>"
      ]
     },
     "metadata": {
      "needs_background": "light"
     },
     "output_type": "display_data"
    }
   ],
   "source": [
    "b=np.array(y_residuals2)\n",
    "sm.qqplot(a, line='q')\n",
    "plt.show()"
   ]
  },
  {
   "cell_type": "markdown",
   "metadata": {},
   "source": [
    "\n",
    "#### Part D: If the data set violated any assumptions in part C, adjust the model accordingly if possible.  Consider removing outliers, adding higher order polynomial terms, etc.  If you adjust the model, make another set of plots as in parts A and B of the new fit and the new residuals."
   ]
  },
  {
   "cell_type": "markdown",
   "metadata": {},
   "source": [
    "I am going to skip looking for outliers and see if applying non-linear transformations to our variables $x$ and $y$ could help. I am going to skip looking for outliers because the entirety of our data does not follow a linear relationship. That is, getting rid of possible outliers will not help us fulfill the assumptions but transforming the variables maybe could. (-I say maybe because I want to do some testing with non-linear transformations, even though I know it won't help. We should use quadratic regresion instead.)"
   ]
  },
  {
   "cell_type": "code",
   "execution_count": 72,
   "metadata": {},
   "outputs": [
    {
     "name": "stdout",
     "output_type": "stream",
     "text": [
      "Summary table: \n",
      "\n",
      "Intercept: 0.58211 ,  Std error: 0.06606  \n",
      "\n",
      "Slope: 1.00044 ,  Std error: 0.03055  \n",
      "\n",
      "Sigma hat squared: 0.03930  \n",
      "\n",
      "Coefficient of determiation (Goodness-of-fit):  0.79304\n"
     ]
    },
    {
     "data": {
      "image/png": "[encoded data removed]",
      "text/plain": [
       "<Figure size 720x360 with 1 Axes>"
      ]
     },
     "metadata": {
      "needs_background": "light"
     },
     "output_type": "display_data"
    }
   ],
   "source": [
    "#y_prime2 = y2\n",
    "#y_prime2 = np.log(y2)\n",
    "y_prime2 = np.sqrt(y2)\n",
    "#y_prime2 = 1/y2\n",
    "\n",
    "#x_prime2 = x2\n",
    "x_prime2 = np.log(x2)\n",
    "#x_prime2 = np.sqrt(x2)\n",
    "#x_prime2 = 1/(x2)\n",
    "\n",
    "plt.subplots(nrows=1, ncols=1, figsize=(10,5)) \n",
    "plt.scatter(x_prime2, y_prime2, 22, c = \"red\")\n",
    "\n",
    "\n",
    "###################################################\n",
    "\n",
    "m_prime2,b_prime2 = computeLine(x_prime2, y_prime2, n)\n",
    "\n",
    "var_hat_prime2 = computeVar_hat(x_prime2, y_prime2, n, m_prime2, b_prime2)\n",
    "\n",
    "R_sq_prime2 = computeR_sq(x_prime2, y_prime2, n, m_prime2, b_prime2)\n",
    "\n",
    "SE_estimators_prime2 = computeSE_Estimators(x_prime2, y_prime2, n, m_prime2, b_prime2)\n",
    "\n",
    "plt.plot(x_prime2, m_prime2*x_prime2+b_prime2, c = \"b\")\n",
    "\n",
    "###################################################\n",
    "print(\"Summary table: \")\n",
    "\n",
    "print(\"\\nIntercept:\", format(b_prime2, '.5f'),  \",  Std error:\", format(SE_estimators_prime2[0], '.5f'), \" \\n\\nSlope:\", format(m_prime2, '.5f'), \",  Std error:\", format(SE_estimators_prime2[1], '.5f'), \" \\n\\nSigma hat squared:\", format(var_hat_prime2, '.5f'), \" \\n\\nCoefficient of determiation (Goodness-of-fit): \", format(R_sq_prime2, '.5f'))\n",
    "\n",
    "#plt.xlim([3.9, 14.1])\n",
    "plt.show()"
   ]
  },
  {
   "cell_type": "code",
   "execution_count": 73,
   "metadata": {},
   "outputs": [
    {
     "data": {
      "image/png": "[encoded data removed]",
      "text/plain": [
       "<Figure size 432x288 with 1 Axes>"
      ]
     },
     "metadata": {
      "needs_background": "light"
     },
     "output_type": "display_data"
    }
   ],
   "source": [
    "y_prime_residuals2 = get_residuals(x_prime2, y_prime2, m_prime2, b_prime2)\n",
    "\n",
    "plt.scatter(x_prime2, y_prime_residuals2 ,22, c = \"blue\")\n",
    "\n",
    "#plt.plot([3,15], [0,0], c = \"grey\")\n",
    "plt.plot([1,3], [0,0], c = \"grey\")\n",
    "\n",
    "#plt.xlim([3.9, 14.1])\n",
    "#plt.ylim([-0.75, 0.75])\n",
    "plt.show()"
   ]
  },
  {
   "cell_type": "code",
   "execution_count": 74,
   "metadata": {},
   "outputs": [
    {
     "data": {
      "image/png": "[encoded data removed]",
      "text/plain": [
       "<Figure size 432x288 with 1 Axes>"
      ]
     },
     "metadata": {
      "needs_background": "light"
     },
     "output_type": "display_data"
    }
   ],
   "source": [
    "plt.hist(y_prime_residuals2)\n",
    "plt.show()"
   ]
  },
  {
   "cell_type": "markdown",
   "metadata": {},
   "source": [
    "\n",
    "#### Part E: Write a sentence or two describing your thought process above.  If you did not adjust a model, why not?  If you did, what are the effects?"
   ]
  },
  {
   "cell_type": "markdown",
   "metadata": {},
   "source": [
    "Even though I tried to apply different non-linear transformations to check if we could make our dataset meet the 4 assumptions, doing so did not help. I'd say that because we were given data with parabolic behaviour, we should have then used quadratic regresion instead. In other words, given that the data shows a parabolic behaviour, applying a simple linear regression model is unfit."
   ]
  },
  {
   "cell_type": "markdown",
   "metadata": {},
   "source": [
    "<br>\n",
    "\n",
    "---\n",
    "<a/ id='p3'></a>\n",
    "[Back to top](#top)\n",
    "## [25 points] Data Set 3\n",
    "\n",
    "For the data set marked with \"III\" in the given data frame,  perform a regression analysis.  Use markdown to clearly mark each step.\n",
    "\n",
    "\n",
    "#### Part A: Make a scatter plot of the data set and overlay the line of best least-squares fit.  Print the summary table, and write the final model in a markdown cell."
   ]
  },
  {
   "cell_type": "code",
   "execution_count": 87,
   "metadata": {},
   "outputs": [
    {
     "name": "stdout",
     "output_type": "stream",
     "text": [
      "Summary table: \n",
      "\n",
      "Intercept: 2.55270 ,  Std error: 1.41797  \n",
      "\n",
      "Slope: 0.54970 ,  Std error: 0.14864  \n",
      "\n",
      "Sigma hat squared: 1.55899  \n",
      "\n",
      "Coefficient of determiation (Goodness-of-fit):  0.65966\n"
     ]
    },
    {
     "data": {
      "image/png": "[encoded data removed]",
      "text/plain": [
       "<Figure size 504x504 with 1 Axes>"
      ]
     },
     "metadata": {
      "needs_background": "light"
     },
     "output_type": "display_data"
    }
   ],
   "source": [
    "df3 = df.loc[22:33]\n",
    "\n",
    "x3 = df3.iloc[0:11,1]\n",
    "y3 = df3.iloc[0:11,2]\n",
    "\n",
    "x3 = x3.reset_index(drop=True)\n",
    "y3 = y3.reset_index(drop=True)\n",
    "\n",
    "n3 = len(y3)\n",
    "\n",
    "plt.subplots(nrows=1, ncols=1, figsize=(7,7)) \n",
    "plt.scatter(x3, y3, 22, c=\"red\")\n",
    "\n",
    "\n",
    "m3,b3 = computeLine(x3, y3, n3)\n",
    "\n",
    "var_hat3 = computeVar_hat(x3, y3, n3, m3, b3)\n",
    "\n",
    "R_sq3 = computeR_sq(x3, y3, n3, m3, b3)\n",
    "\n",
    "SE_estimators3 = computeSE_Estimators(x3, y3, n3, m3, b3)\n",
    "\n",
    "\n",
    "print(\"Summary table: \")\n",
    "\n",
    "print(\"\\nIntercept:\", format(b3, '.5f'), \",  Std error:\", format(SE_estimators3[0], '.5f'), \" \\n\\nSlope:\", format(m3, '.5f'), \",  Std error:\", format(SE_estimators3[1], '.5f'), \" \\n\\nSigma hat squared:\", format(var_hat3, '.5f'), \" \\n\\nCoefficient of determiation (Goodness-of-fit): \", format(R_sq3, '.5f'))\n",
    "\n",
    "plt.plot(x3, m3*x3+b3, c = \"b\")\n",
    "\n",
    "plt.xlim([3.9, 14.1])\n",
    "\n",
    "plt.show()"
   ]
  },
  {
   "cell_type": "markdown",
   "metadata": {},
   "source": [
    "- linear model:\n",
    "\n",
    "$\n",
    " \\qquad y \\;=\\; 2.552 + 0.549x\n",
    "$"
   ]
  },
  {
   "cell_type": "markdown",
   "metadata": {},
   "source": [
    "\n",
    "#### Part B: Make a scatter plot where the original x-values are the x-axis and the residuals of the line of best least-squares fit are the y-axis."
   ]
  },
  {
   "cell_type": "code",
   "execution_count": 76,
   "metadata": {},
   "outputs": [
    {
     "data": {
      "image/png": "[encoded data removed]",
      "text/plain": [
       "<Figure size 432x288 with 1 Axes>"
      ]
     },
     "metadata": {
      "needs_background": "light"
     },
     "output_type": "display_data"
    }
   ],
   "source": [
    "y_residuals3 = get_residuals(x3,y3,m3,b3)\n",
    "\n",
    "plt.scatter(x3, y_residuals3 ,22, c = \"blue\")\n",
    "\n",
    "plt.plot([-0.1,1,2,3,4,5,6,7,8,9,10,11,12,14,14.1], [0,0,0,0,0,0,0,0,0,0,0,0,0,0,0], c = \"grey\")\n",
    "\n",
    "plt.xlim([3.9, 14.1])\n",
    "plt.ylim([-4, 4])\n",
    "plt.show()"
   ]
  },
  {
   "cell_type": "code",
   "execution_count": 77,
   "metadata": {},
   "outputs": [
    {
     "data": {
      "image/png": "[encoded data removed]",
      "text/plain": [
       "<Figure size 432x288 with 1 Axes>"
      ]
     },
     "metadata": {
      "needs_background": "light"
     },
     "output_type": "display_data"
    }
   ],
   "source": [
    "plt.hist(y_residuals3)\n",
    "plt.show()"
   ]
  },
  {
   "cell_type": "markdown",
   "metadata": {},
   "source": [
    "\n",
    "#### Part C: For each of the 4 major assumptions of the simple linear regression model, use your plots in parts A and B to decide whether or not the data set meets those assumptions."
   ]
  },
  {
   "cell_type": "markdown",
   "metadata": {},
   "source": [
    "-Except for the outlier, the data does meet the first assumption. By looking at the plot in part A), the points do fall along the path of a straight line. That is, the data points seem to follow a linear relationship.\n",
    "\n",
    "-I'm am not completely sure if the data also does meet assumption number 2 because one could say that there is a consecutive pattern between the residuals in the sense that they follow an inclined line except for the outlier. However, one could also say that they are not following a consequitive pattern because of that outlier suden random change in the consecutive pattern. After removing the outlier, I'd argue that the change is small enough to not be accounted for and therefore the cleaned data should meet the second assumption.\n",
    "\n",
    "-By looking at the plot in B), I'd say that the data does meet the third assumption because the residuals seem to keep the same variance at every level of $x$, except for the outlier.\n",
    "\n",
    "-Finally, by looking at the histogram above, we can see that the residuals would follow a uniform distribution if it wasn't for the outlier at $x=13$. I'd say that the data does meet assumption number 4, because due to our small size in data one could assume that a larger sample size could possibly aproximate a normal distribution."
   ]
  },
  {
   "cell_type": "markdown",
   "metadata": {},
   "source": [
    "\n",
    "#### Part D: If the data set violated any assumptions in part C, adjust the model accordingly if possible.  Consider removing outliers, adding higher order polynomial terms, etc.  If you adjust the model, make another set of plots as in parts A and B of the new fit and the new residuals."
   ]
  },
  {
   "cell_type": "markdown",
   "metadata": {},
   "source": [
    "I am going to double check if the data point at $x = 13$ is indeed an outlier by using my formula from in question 1. I am not going to use non-linear transformations because I am pretty confident that simply removing the outlier will do the job."
   ]
  },
  {
   "cell_type": "code",
   "execution_count": 78,
   "metadata": {},
   "outputs": [
    {
     "name": "stdout",
     "output_type": "stream",
     "text": [
      "IQR: ( 3.6549999999999994 , 10.575000000000001 )\n",
      "\n",
      " Outlier found:  12.74\n"
     ]
    }
   ],
   "source": [
    "look4outliers(y3)"
   ]
  },
  {
   "cell_type": "code",
   "execution_count": 79,
   "metadata": {},
   "outputs": [
    {
     "name": "stdout",
     "output_type": "stream",
     "text": [
      "Summary table: \n",
      "\n",
      "Intercept: 3.67561 ,  Std error: 0.01615  \n",
      "\n",
      "Slope: 0.38377 ,  Std error: 0.00177  \n",
      "\n",
      "Sigma hat squared: 0.01702  \n",
      "\n",
      "Coefficient of determiation (Goodness-of-fit):  0.98765\n"
     ]
    },
    {
     "data": {
      "image/png": "[encoded data removed]",
      "text/plain": [
       "<Figure size 648x504 with 1 Axes>"
      ]
     },
     "metadata": {
      "needs_background": "light"
     },
     "output_type": "display_data"
    }
   ],
   "source": [
    "y_prime3 = y3.drop(2)\n",
    "y_prime3 = y_prime3.reset_index(drop=True)\n",
    "\n",
    "\n",
    "x_prime3 = x3.drop(2)\n",
    "x_prime3 = x_prime3.reset_index(drop=True)\n",
    "\n",
    "n3 = len(x_prime3)\n",
    "\n",
    "plt.subplots(nrows=1, ncols=1, figsize=(9,7)) \n",
    "plt.scatter(x_prime3, y_prime3, 22, c = \"red\")\n",
    "\n",
    "\n",
    "###################################################\n",
    "\n",
    "m_prime3,b_prime3 = computeLine(x_prime3, y_prime3, n3)\n",
    "\n",
    "var_hat_prime3 = computeVar_hat(x_prime3, y_prime3, n3, m_prime3, b_prime3)\n",
    "\n",
    "R_sq_prime3 = computeR_sq(x_prime3, y_prime3, n3, m_prime3, b_prime3)\n",
    "\n",
    "SE_estimators_prime3 = computeSE_Estimators(x_prime3, y_prime3, n3, m_prime3, b_prime3)\n",
    "\n",
    "plt.plot(x_prime3, m_prime3*x_prime3+b_prime3, c = \"b\")\n",
    "\n",
    "###################################################\n",
    "print(\"Summary table: \")\n",
    "\n",
    "print(\"\\nIntercept:\", format(b_prime3, '.5f'), \",  Std error:\", format(SE_estimators_prime3[0], '.5f'), \" \\n\\nSlope:\", format(m_prime3, '.5f'), \",  Std error:\", format(SE_estimators_prime3[1], '.5f'), \" \\n\\nSigma hat squared:\", format(var_hat_prime3, '.5f'), \" \\n\\nCoefficient of determiation (Goodness-of-fit): \", format(R_sq_prime3, '.5f'))\n",
    "\n",
    "#plt.xlim([3.9, 14.1])\n",
    "plt.show()"
   ]
  },
  {
   "cell_type": "code",
   "execution_count": 80,
   "metadata": {},
   "outputs": [
    {
     "data": {
      "image/png": "[encoded data removed]",
      "text/plain": [
       "<Figure size 432x288 with 1 Axes>"
      ]
     },
     "metadata": {
      "needs_background": "light"
     },
     "output_type": "display_data"
    }
   ],
   "source": [
    "y_prime_residuals3 = get_residuals(x_prime3,y_prime3,m_prime3,b_prime3)\n",
    "\n",
    "plt.scatter(x_prime3, y_prime_residuals3 ,22, c = \"blue\")\n",
    "\n",
    "plt.plot([-0.1,1,2,3,4,5,6,7,8,9,10,11,12,14,14.1], [0,0,0,0,0,0,0,0,0,0,0,0,0,0,0], c = \"grey\")\n",
    "\n",
    "plt.xlim([3.9, 14.1])\n",
    "plt.ylim([-4, 4])\n",
    "plt.show()"
   ]
  },
  {
   "cell_type": "code",
   "execution_count": 81,
   "metadata": {},
   "outputs": [
    {
     "data": {
      "image/png": "[encoded data removed]",
      "text/plain": [
       "<Figure size 432x288 with 1 Axes>"
      ]
     },
     "metadata": {
      "needs_background": "light"
     },
     "output_type": "display_data"
    }
   ],
   "source": [
    "plt.hist(y_prime_residuals3)\n",
    "plt.show()"
   ]
  },
  {
   "cell_type": "markdown",
   "metadata": {},
   "source": [
    "\n",
    "#### Part E: Write a sentence or two describing your thought process above.  If you did not adjust a model, why not?  If you did, what are the effects?"
   ]
  },
  {
   "cell_type": "markdown",
   "metadata": {},
   "source": [
    "As expected, getting rid of the outlier got us a better fit/regression-line than we originally had. Also, the histogram indicates a higher residual normality than we originally had. (-even though the residual distribution looks a bit skewed.)"
   ]
  },
  {
   "cell_type": "markdown",
   "metadata": {},
   "source": [
    "<br>\n",
    "\n",
    "---\n",
    "<a/ id='p4'></a>\n",
    "[Back to top](#top)\n",
    "## [25 points] Data Set 4\n",
    "\n",
    "For the data set marked with \"IV\" in the given data frame, perform a regression analysis.  Use markdown to clearly mark each step.\n",
    "\n",
    "\n",
    "#### Part A: Make a scatter plot of the data set and overlay the line of best least-squares fit.  Print the summary table, and write the final model in a markdown cell."
   ]
  },
  {
   "cell_type": "code",
   "execution_count": 88,
   "metadata": {},
   "outputs": [
    {
     "name": "stdout",
     "output_type": "stream",
     "text": [
      "Summary table: \n",
      "\n",
      "Intercept: 2.55181 ,  Std error: 1.41661  \n",
      "\n",
      "Slope: 0.54990 ,  Std error: 0.14850  \n",
      "\n",
      "Sigma hat squared: 1.55749  \n",
      "\n",
      "Coefficient of determiation (Goodness-of-fit):  0.66004\n"
     ]
    },
    {
     "data": {
      "image/png": "[encoded data removed]",
      "text/plain": [
       "<Figure size 504x504 with 1 Axes>"
      ]
     },
     "metadata": {
      "needs_background": "light"
     },
     "output_type": "display_data"
    }
   ],
   "source": [
    "df4 = df.loc[33:43]\n",
    "\n",
    "x4 = df4.iloc[0:11,1]\n",
    "y4 = df4.iloc[0:11,2]\n",
    "\n",
    "x4 = x4.reset_index(drop=True)\n",
    "y4 = y4.reset_index(drop=True)\n",
    "\n",
    "n4 = len(y4)\n",
    "\n",
    "plt.subplots(nrows=1, ncols=1, figsize=(7,7)) \n",
    "plt.scatter(x4, y4,22, c = \"red\")\n",
    "\n",
    "m4,b4 = computeLine(x4, y4, n4)\n",
    "\n",
    "var_hat4 = computeVar_hat(x4, y4, n4, m4, b4)\n",
    "\n",
    "R_sq4 = computeR_sq(x4, y4, n4, m4, b4)\n",
    "\n",
    "SE_estimators4 = computeSE_Estimators(x4, y4, n4, m4, b4)\n",
    "\n",
    "print(\"Summary table: \")\n",
    "\n",
    "print(\"\\nIntercept:\", format(b4, '.5f'), \",  Std error:\", format(SE_estimators4[0], '.5f'), \" \\n\\nSlope:\", format(m4, '.5f'), \",  Std error:\", format(SE_estimators4[1], '.5f'), \" \\n\\nSigma hat squared:\", format(var_hat4, '.5f'), \" \\n\\nCoefficient of determiation (Goodness-of-fit): \", format(R_sq4, '.5f'))\n",
    "\n",
    "plt.plot(x4, m4*x4+b4, c = \"b\")\n",
    "\n",
    "plt.xlim([3.9, 19.2])\n",
    "\n",
    "plt.show()"
   ]
  },
  {
   "cell_type": "markdown",
   "metadata": {},
   "source": [
    "- linear model:\n",
    "\n",
    "$\n",
    " \\qquad y \\;=\\; 2.551 + 0.549x\n",
    "$"
   ]
  },
  {
   "cell_type": "markdown",
   "metadata": {},
   "source": [
    "\n",
    "#### Part B: Make a scatter plot where the original x-values are the x-axis and the residuals of the line of best least-squares fit are the y-axis."
   ]
  },
  {
   "cell_type": "code",
   "execution_count": 83,
   "metadata": {},
   "outputs": [
    {
     "data": {
      "image/png": "[encoded data removed]",
      "text/plain": [
       "<Figure size 432x288 with 1 Axes>"
      ]
     },
     "metadata": {
      "needs_background": "light"
     },
     "output_type": "display_data"
    }
   ],
   "source": [
    "y_residuals4 = get_residuals(x4,y4,m4,b4)\n",
    "\n",
    "plt.scatter(x4, y_residuals4 ,22, c = \"blue\")\n",
    "\n",
    "plt.plot([-0.1,1,2,3,4,5,6,7,8,9,10,11,12,14,15,16,17,18,19,19.7], [0,0,0,0,0,0,0,0,0,0,0,0,0,0,0,0,0,0,0,0], c = \"grey\")\n",
    "\n",
    "plt.xlim([3.9, 19.3])\n",
    "plt.ylim([-4, 4])\n",
    "plt.show()"
   ]
  },
  {
   "cell_type": "code",
   "execution_count": 84,
   "metadata": {},
   "outputs": [
    {
     "data": {
      "image/png": "[encoded data removed]",
      "text/plain": [
       "<Figure size 432x288 with 1 Axes>"
      ]
     },
     "metadata": {
      "needs_background": "light"
     },
     "output_type": "display_data"
    }
   ],
   "source": [
    "plt.hist(y_residuals4)\n",
    "plt.show()"
   ]
  },
  {
   "cell_type": "markdown",
   "metadata": {},
   "source": [
    "\n",
    "#### Part C: For each of the 4 major assumptions of the simple linear regression model, use your plots in parts A and B to decide whether or not the data set meets those assumptions."
   ]
  },
  {
   "cell_type": "markdown",
   "metadata": {},
   "source": [
    "- The data does not follow a linear relationship between $x$ and $y$. Thus, the data fails to meet the first assumption of simple linear regression.\n",
    "\n",
    "- The residuals do not seem to be following a consecutive pattern. (-The residuals do not follow a pattern of staying negative or positive over different ranges/levels of $x$) Thus, one could say that the data does meet the second assumption.\n",
    "\n",
    "- The residuals do not seem to have diferent variances. That is they do not seem to spread apart or get closer to each other from left to right, anyhow this is true only because all points are set at the same level of $x$ (-except for the only point to the right).  Therefore one could say that the data meets the third assumption.\n",
    "\n",
    "- The data fails to meet the fourth assumption. By looking at the residual histogram, it can be seen that the residuals do not follow a normal distribution. \n"
   ]
  },
  {
   "cell_type": "markdown",
   "metadata": {},
   "source": [
    "\n",
    "#### Part D: If the data set violated any assumptions in part C, adjust the model accordingly if possible.  Consider removing outliers, adding higher order polynomial terms, etc.  If you adjust the model, make another set of plots as in parts A and B of the new fit and the new residuals."
   ]
  },
  {
   "cell_type": "code",
   "execution_count": null,
   "metadata": {},
   "outputs": [],
   "source": []
  },
  {
   "cell_type": "markdown",
   "metadata": {},
   "source": [
    "\n",
    "#### Part E: Write a sentence or two describing your thought process above.  If you did not adjust a model, why not?  If you did, what are the effects?"
   ]
  },
  {
   "cell_type": "markdown",
   "metadata": {},
   "source": [
    "I did not try to perform any adjustments to the data because all the data points, except for the high leverage point, do not show any relationship between the variables $x$ and $y$. Therefore, the simple linear regresion model is not fit for the given data."
   ]
  },
  {
   "cell_type": "code",
   "execution_count": null,
   "metadata": {},
   "outputs": [],
   "source": []
  }
 ],
 "metadata": {
  "kernelspec": {
   "display_name": "Python 3",
   "language": "python",
   "name": "python3"
  },
  "language_info": {
   "codemirror_mode": {
    "name": "ipython",
    "version": 3
   },
   "file_extension": ".py",
   "mimetype": "text/x-python",
   "name": "python",
   "nbconvert_exporter": "python",
   "pygments_lexer": "ipython3",
   "version": "3.8.6"
  }
 },
 "nbformat": 4,
 "nbformat_minor": 4
}
