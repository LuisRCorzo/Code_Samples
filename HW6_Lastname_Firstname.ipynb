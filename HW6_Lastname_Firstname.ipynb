{
 "cells": [
  {
   "cell_type": "markdown",
   "metadata": {},
   "source": [
    "<a id='top'></a>\n",
    "\n",
    "# CSCI3022 S21\n",
    "# Homework 6: Testing\n",
    "***\n",
    "\n",
    "**Name**: Luis R. Corzo\n",
    "\n",
    "***\n",
    "\n",
    "This assignment is due on Canvas by **MIDNIGHT on Friday, April 15**. Your solutions to theoretical questions should be done in Markdown directly below the associated question.  Your solutions to computational questions should include any specified Python code and results as well as written commentary on your conclusions.  Remember that you are encouraged to discuss the problems with your classmates, but **you must write all code and solutions on your own**.\n",
    "\n",
    "**NOTES**: \n",
    "\n",
    "- Any relevant data sets should be available on Canvas. To make life easier on the graders if they need to run your code, do not change the relative path names here. Instead, move the files around on your computer.\n",
    "- If you're not familiar with typesetting math directly into Markdown then by all means, do your work on paper first and then typeset it later.  Here is a [reference guide](https://math.meta.stackexchange.com/questions/5020/mathjax-basic-tutorial-and-quick-reference) linked on Canvas on writing math in Markdown. **All** of your written commentary, justifications and mathematical work should be in Markdown.  I also recommend the [wikibook](https://en.wikibooks.org/wiki/LaTeX) for LaTex.\n",
    "- Because you can technically evaluate notebook cells is a non-linear order, it's a good idea to do **Kernel $\\rightarrow$ Restart & Run All** as a check before submitting your solutions.  That way if we need to run your code you will know that it will work as expected. \n",
    "- It is **bad form** to make your reader interpret numerical output from your code.  If a question asks you to compute some value from the data you should show your code output **AND** write a summary of the results in Markdown directly below your code. \n",
    "- 45 points of this assignment are in problems.  The remaining 5 are for neatness, style, and overall exposition of both code and text.\n",
    "- This probably goes without saying, but... For any question that asks you to calculate something, you **must show all work and justify your answers to receive credit**. Sparse or nonexistent work will receive sparse or nonexistent credit. \n",
    "\n",
    "---\n",
    "**Shortcuts:**  [Problem 1](#p1) | [Problem 2](#p2) | [Problem 3](#p3) |\n",
    "---"
   ]
  },
  {
   "cell_type": "code",
   "execution_count": 1,
   "metadata": {},
   "outputs": [],
   "source": [
    "import pandas as pd\n",
    "import numpy as np\n",
    "import matplotlib.pylab as plt\n",
    "import scipy.stats as stats\n",
    "%matplotlib inline"
   ]
  },
  {
   "cell_type": "markdown",
   "metadata": {},
   "source": [
    "<br>\n",
    "\n",
    "---\n",
    "<a/ id='p1'></a>\n",
    "[Back to top](#top)\n",
    "## [25 points] Problem 1 - Mins or Maxs?\n",
    "\n",
    "It's a common data science and numeric problem to need to find **best** estimators, which often represent maximums of \"value\" functions or minimums of \"loss\" functions.  In this problem we explore the way that minimums and maximums interact with one another.\n",
    "\n",
    "Consider rolling some fair, independent, 10-sided dice, with faces [1,2,3,...,10].\n",
    "\n",
    "#### Part a) Maximums\n",
    "\n",
    "Suppose we roll 2 such 10-sided die.  Denote $M:=$ the maximum of the two rolls (we will refer to this as the roller having \"advantage\" when trying to achieve a high roll in a die-rolling game).\n",
    "\n",
    "i) Use markdown to express the exact pdf of $M$.\n",
    "\n",
    "ii) Print the expected value of $M$.\n",
    "\n",
    "iii) Print the variance of $M$.\n"
   ]
  },
  {
   "cell_type": "markdown",
   "metadata": {},
   "source": [
    "First, lets find the probability of each $M$. (-maximum value of a pair of rolls) \n",
    "\n",
    "\n",
    "\n",
    "Let $S$ denote our sample space of pairs containing possible maximum values.\n",
    "\n",
    "$\n",
    "S = \\{ \\; (1,1) \\newline\n",
    " \\quad  (1,2), (2,1), (2,2) \\newline\n",
    " \\quad  (1,3), (2,3), (3,1), (3,2), (3,3)\\newline\n",
    " \\quad  (1,4), (2,4), (3,4), (4,1), (4,2), (4,3), (4,4)\\newline\n",
    " \\quad  (1,5), (2,5), (3,5), (4,5), (5,1), (5,2), (5,3), (5,4), (5,5)\\newline\n",
    " \\quad  (1,6), (2,6), (3,6), (4,6), (5,6), (6,1), (6,2), (6,3), (6,4), (6,5), (6,6)\\newline\n",
    " \\quad  (1,7), (2,7), (3,7), (4,7), (5,7), (6,7), (7,1), (7,2), (7,3), (7,4), (7,5), (7,6), (7,7)\\newline\n",
    " \\quad  (1,8), (2,8), (3,8), (4,8), (5,8), (6,8), (7,8), (8,1), (8,2), (8,3), (8,4), (8,5), (8,6),(8,7),(8,8)\\newline\n",
    " \\quad  (1,9), (2,9), (3,9), (4,9), (5,9), (6,9), (7,9), (8,9), (9,1), (9,2), (9,3), (9,4), (9,5),(9,6),(9,7),(9,8),(9,9)\\newline\n",
    " \\quad  (1,10),(2,10),(3,10),(4,10),(5,10),(6,10),(7,10),(8,10),(9,10),(10,1),(10,2),(10,3),(10,4),(10,5),(10,6),(10,7),(10,8),(10,9),(10,10)\\; \\}\n",
    "$\n",
    "\n",
    "Which then we can use to select the maximum values of each pair instead of the whole pair for neatness.\n",
    "\n",
    "$\n",
    " S = \\{ \\; 1 \\newline\n",
    " \\qquad  2, 2, 2 \\newline\n",
    " \\qquad  3, 3, 3, 3, 3\\newline \n",
    " \\qquad  4, 4, 4, 4, 4, 4, 4\\newline \n",
    " \\qquad  5, 5, 5, 5, 5, 5, 5, 5, 5\\newline \n",
    " \\qquad  6, 6, 6, 6, 6, 6, 6, 6, 6, 6, 6\\newline \n",
    " \\qquad  7, 7, 7, 7, 7, 7, 7, 7, 7, 7, 7, 7, 7\\newline \n",
    " \\qquad  8, 8, 8, 8, 8, 8, 8, 8, 8, 8, 8, 8, 8, 8, 8\\newline \n",
    " \\qquad  9, 9, 9, 9, 9, 9, 9, 9, 9, 9, 9, 9, 9, 9, 9, 9, 9\\newline \n",
    " \\qquad  10, 10, 10, 10, 10, 10, 10, 10, 10, 10, 10, 10, 10, 10, 10, 10, 10, 10, 10\\; \\}\n",
    "$\n",
    "\n",
    "The total number of elements in $S$ or total of possible maximum values is $n = 100$ or a hundred elements. By constructing the set above we can count how many times each maximum value is found in our set of possible maximum values to get the probability of such maximum random value in two rolls.\n",
    "\n",
    "- Thus,\n",
    "\n",
    "$$\n",
    "P(M = 1) = \\frac{1}{100} \\newline\n",
    "P(M = 2) = \\frac{3}{100} \\newline\n",
    "P(M = 3) = \\frac{5}{100} \\newline\n",
    "P(M = 4) = \\frac{7}{100} \\newline\n",
    "P(M = 5) = \\frac{9}{100} \\newline\n",
    "P(M = 6) = \\frac{11}{100} \\newline\n",
    "P(M = 7) = \\frac{13}{100} \\newline\n",
    "P(M = 8) = \\frac{15}{100} \\newline\n",
    "P(M = 9) = \\frac{17}{100} \\newline\n",
    "P(M = 10) = \\frac{19}{100} \\newline\n",
    "$$\n",
    "\n",
    "As sanity check, we have to make sure that the sum of all probabilities add up to one, which they do.\n",
    "\n",
    "We can now find a formula for the PMF of our process in terms of $x$:\n",
    "\n",
    "$$\n",
    "P(M=x) = \\frac{2x-1}{100}, \\; \\text{for}\\; 1 \\leq x \\leq 10\n",
    "$$\n",
    "\n",
    "- Note that we are asked to find the exact PDF of M. However, we are dealing with a discrete process, which means we should be asked to look for the PMF (-not the PDF.)\n",
    "\n",
    "Now, I'm going to compute the expected value and variance of $M$ in the code cell below."
   ]
  },
  {
   "cell_type": "code",
   "execution_count": 7,
   "metadata": {},
   "outputs": [
    {
     "name": "stdout",
     "output_type": "stream",
     "text": [
      "Variance of M: 5.583333333333331\n",
      "Expected value of M:  7.15\n"
     ]
    }
   ],
   "source": [
    "\n",
    "maxVals = [1, 2, 2, 2, 3, 3, 3, 3, 3, 4, 4, 4, 4, 4, 4, 4, 5, 5, 5, 5, 5, 5, 5, 5, 5, 6, 6, 6, 6, 6, 6, 6, 6, 6, 6, 6, 7, 7, 7, 7, 7, 7, 7, 7, 7, 7, 7, 7, 7, 8, 8, 8, 8, 8, 8, 8, 8, 8, 8, 8, 8, 8, 8, 8, 9, 9, 9, 9, 9, 9, 9, 9, 9, 9, 9, 9, 9, 9, 9, 9, 9, 10, 10, 10, 10, 10, 10, 10, 10, 10, 10, 10, 10, 10, 10, 10, 10, 10, 10, 10]\n",
    "\n",
    "varianceM = np.var(maxVals, ddof = 1)\n",
    "\n",
    "print(\"Variance of M:\", varianceM)\n",
    "\n",
    "def pmfOfM(x):\n",
    "    \n",
    "    if x >= 1 and x <= 10:\n",
    "        ret = (2*x-1)/100\n",
    "        return ret\n",
    "    else:\n",
    "        print(\"Error: input has to be in the range [1,10]\")\n",
    "      \n",
    "              \n",
    "\n",
    "possibleVals = [1,2,3,4,5,6,7,8,9,10]\n",
    "\n",
    "def computeExpected_M(possibleVals):\n",
    "    \n",
    "    tempList = []\n",
    "\n",
    "    for value in range(len(possibleVals)):\n",
    "\n",
    "        val = possibleVals[value]\n",
    "\n",
    "        ret = val * pmfOfM(val)\n",
    "        tempList.append(ret)\n",
    "\n",
    "\n",
    "    expectedValM = np.sum(tempList)\n",
    "    \n",
    "    return expectedValM\n",
    "\n",
    "expectedVal = computeExpected_M(possibleVals)\n",
    "\n",
    "print(\"Expected value of M: \", expectedVal)"
   ]
  },
  {
   "cell_type": "markdown",
   "metadata": {},
   "source": [
    "\n",
    "#### Part b) Min-Max\n",
    "\n",
    "In the rest of this problem, we'll explore tacking **both** a minimum and a maximum.  In particular, we define the experiment of *min-max*, in which we compute the minimum of two maximum rolls.  Formally: we roll 2 dice and record their maximum $M_1$, then roll 2 more dice and record their maximum $M_2$.  Finally, we denote $mM:=$ the mimimun of the two $M_1$ and $M_2$ rolls.  We may refer to this as \"disadvantage-of-advantage.\"\n",
    "\n",
    "Set up a function to simulate $n=10^4$ draws from the $mM$ random variable.  Then, *simulate* and/or *bootstrap* with your function to answer the following:\n",
    "\n",
    "i) What is the pdf of $mM$?  Plot it as a histogram.\n",
    "\n",
    "ii) What is the expected value of $mM$?\n",
    "\n",
    "iii) What is the probability that an $mM$ random variable returns a value greater then 5? Construct both a point estimate and a 90\\% confidence interval for this value.\n",
    "\n",
    "For the bootstrapped CI in iii, it is recommended you group your $10^4$ trials into 100 groups of 100 trials in order to construct a distribution of sample probabilities."
   ]
  },
  {
   "cell_type": "code",
   "execution_count": 9,
   "metadata": {},
   "outputs": [
    {
     "name": "stdout",
     "output_type": "stream",
     "text": [
      "Expected value of mM:  5.8306\n",
      "\n",
      "\n",
      "90% Confidence Interval: [5.802, 5.859]\n",
      "\n",
      "\n",
      "Point estimate:  5.8306\n",
      "\n",
      "\n",
      "Probability that the min-max value is greater than 5:  0.5630999999999999\n"
     ]
    },
    {
     "data": {
      "image/png": "[encoded data removed]",
      "text/plain": [
       "<Figure size 504x360 with 1 Axes>"
      ]
     },
     "metadata": {
      "needs_background": "light"
     },
     "output_type": "display_data"
    }
   ],
   "source": [
    "def simulateMaxRoll():\n",
    "    \n",
    "    draw1 = np.random.randint(1, 11)\n",
    "    draw2 = np.random.randint(1, 11)\n",
    "    \n",
    "    if draw1 <= draw2:\n",
    "        return draw2\n",
    "        \n",
    "    else:\n",
    "        return draw1\n",
    "        \n",
    "        \n",
    "\n",
    "\n",
    "def simulateMinMax():\n",
    "    \n",
    "    M_1 = simulateMaxRoll()\n",
    "    M_2 = simulateMaxRoll()\n",
    "    \n",
    "    if M_1 <= M_2:\n",
    "        return M_1\n",
    "        \n",
    "    else:\n",
    "        return M_2\n",
    "    \n",
    "\n",
    "\n",
    "mM = []\n",
    "\n",
    "\n",
    "for i in range(0,10000):\n",
    "    \n",
    "    min_max = simulateMinMax()\n",
    "    mM.append(min_max)\n",
    "\n",
    "\n",
    "kwargs = dict(alpha=0.4, bins = [0.5,1.5,2.5,3.5,4.5,5.5,6.5,7.5,8.5,9.5,10.5], density=True, edgecolor='black', linewidth=0.5)\n",
    "\n",
    "fig, ax = plt.subplots(figsize=(7, 5)) \n",
    "\n",
    "ax.hist(mM, **kwargs)\n",
    "\n",
    "ax.set_xticks([1,2,3,4,5,6,7,8,9,10])\n",
    "\n",
    "\n",
    "#find probability of mM being grater than 5:\n",
    "\n",
    "counters = [0,0,0,0,0]\n",
    "\n",
    "for i in range(0,10000): \n",
    "\n",
    "    if mM[i] == 6:\n",
    "        counters[0] += 1\n",
    "\n",
    "    if mM[i] == 7:\n",
    "        counters[1] += 1\n",
    "\n",
    "    if mM[i] == 8:\n",
    "        counters[2] += 1\n",
    "\n",
    "    if mM[i] == 9:\n",
    "        counters[3] += 1\n",
    "\n",
    "    if mM[i] == 10:\n",
    "        counters[4] += 1\n",
    "\n",
    "\n",
    "prob = 0\n",
    "\n",
    "for i in range(0,5):\n",
    "    prob += counters[i]/10000\n",
    "    \n",
    "\n",
    "mean_mM = np.mean(mM) #using the mean of the distribution as the expected value of mM.\n",
    "print(\"Expected value of mM: \",mean_mM)\n",
    "\n",
    "\n",
    "z = stats.norm.ppf(0.90)\n",
    "std = np.std(mM)\n",
    "CI = [mean_mM + flip*z*std/np.sqrt(len(mM)) for flip in [-1,1]]\n",
    "\n",
    "pointEstimate = (CI[1] - CI[0])/2\n",
    "pointEstimate = CI[1] - pointEstimate\n",
    "\n",
    "print(\"\\n\")\n",
    "\n",
    "print(\"90% Confidence Interval: [{:.3f}, {:.3f}]\".format(CI[0], CI[1]))\n",
    "\n",
    "print(\"\\n\")\n",
    "\n",
    "print(\"Point estimate: \", pointEstimate)\n",
    "\n",
    "print(\"\\n\")\n",
    "\n",
    "print(\"Probability that the min-max value is greater than 5: \", prob)"
   ]
  },
  {
   "cell_type": "markdown",
   "metadata": {},
   "source": [
    "\n",
    "#### Part c) Max-min\n",
    "\n",
    "Now, define the experiment of *max-min*, in which we compute the maximum of two minumum rolls.  Formally: we roll 2 dice and record their minimum $m_1$, then roll 2 more dice and record their minimum $m_2$.  Finally, we denote $Mm:=$ the maximum of the two $m_1$ and $m_2$ rolls.  We may refer to this as \"advantage-of-disadvantage.\"\n",
    "\n",
    "Set up a function to simulate $n$ draws from the $Mm$ random variable.  Then, *simulate* and/or *bootstrap* with your function to answer the following:\n",
    "\n",
    "i) What is the pdf of $Mm$?  Plot it as a histogram.\n",
    "\n",
    "ii) What is the expected value of $Mm$?\n",
    "\n",
    "iii) What is the probability that an $Mm$ random variable returns a value greater then 5?   Construct both a point estimate and a 90\\% confidence interval for this value.\n",
    "\n",
    "\n"
   ]
  },
  {
   "cell_type": "code",
   "execution_count": 182,
   "metadata": {},
   "outputs": [
    {
     "name": "stdout",
     "output_type": "stream",
     "text": [
      "\n",
      "\n",
      "Expected value of mM:  5.1821\n",
      "\n",
      "\n",
      "90% Confidence Interval: [5.154, 5.211]\n",
      "\n",
      "\n",
      "Point estimate:  5.1821\n",
      "\n",
      "\n",
      "Probability that the max-min value is greater than 5:  0.441\n",
      "\n",
      "\n"
     ]
    },
    {
     "data": {
      "image/png": "[encoded data removed]",
      "text/plain": [
       "<Figure size 504x360 with 1 Axes>"
      ]
     },
     "metadata": {
      "needs_background": "light"
     },
     "output_type": "display_data"
    }
   ],
   "source": [
    "def simulateMinRoll():\n",
    "    \n",
    "    draw1 = np.random.randint(1, 11)\n",
    "    draw2 = np.random.randint(1, 11)\n",
    "    \n",
    "    if draw1 >= draw2:\n",
    "        return draw2\n",
    "        \n",
    "    else:\n",
    "        return draw1\n",
    "        \n",
    "        \n",
    "\n",
    "\n",
    "def simulateMaxMin(n):\n",
    "    \n",
    "    tempList = []\n",
    "\n",
    "    for i in range(0,n):\n",
    "        \n",
    "        draw1 = simulateMinRoll()\n",
    "        draw2 = simulateMinRoll()\n",
    "\n",
    "        if draw1 >= draw2:\n",
    "            tempList.append(draw1)\n",
    "        else:\n",
    "            tempList.append(draw2)\n",
    "            \n",
    "    return tempList\n",
    "\n",
    "Mm = []\n",
    "\n",
    "Mm = simulateMaxMin(10000)\n",
    "\n",
    "\n",
    "kwargs = dict(alpha=0.4, bins = [0.5,1.5,2.5,3.5,4.5,5.5,6.5,7.5,8.5,9.5,10.5], density=True, edgecolor='black', linewidth=0.5)\n",
    "\n",
    "fig, ax = plt.subplots(figsize=(7, 5)) \n",
    "\n",
    "ax.hist(Mm, **kwargs)\n",
    "\n",
    "ax.set_xticks([1,2,3,4,5,6,7,8,9,10])\n",
    "\n",
    "counters2 = [0,0,0,0,0]\n",
    "\n",
    "for i in range(0,10000): \n",
    "\n",
    "    if Mm[i] == 6:\n",
    "        counters2[0] += 1\n",
    "\n",
    "    if Mm[i] == 7:\n",
    "        counters2[1] += 1\n",
    "\n",
    "    if Mm[i] == 8:\n",
    "        counters2[2] += 1\n",
    "\n",
    "    if Mm[i] == 9:\n",
    "        counters2[3] += 1\n",
    "\n",
    "    if Mm[i] == 10:\n",
    "        counters2[4] += 1\n",
    "\n",
    "\n",
    "prob2 = 0\n",
    "\n",
    "for i in range(0,5):\n",
    "    prob2 += counters2[i]/10000\n",
    "    \n",
    "\n",
    "\n",
    "mean_Mm = np.mean(Mm) #using the mean of the distribution as the expected value of mM.\n",
    "\n",
    "\n",
    "z2 = stats.norm.ppf(0.90)\n",
    "std2 = np.std(Mm)\n",
    "CI2 = [mean_Mm + flip*z2*std2/np.sqrt(len(Mm)) for flip in [-1,1]]\n",
    "\n",
    "pointEstimate2 = (CI2[1] - CI2[0])/2\n",
    "pointEstimate2 = CI2[1] - pointEstimate2\n",
    "\n",
    "print(\"\\n\")\n",
    "print(\"Expected value of mM: \",mean_Mm)\n",
    "print(\"\\n\")\n",
    "\n",
    "print(\"90% Confidence Interval: [{:.3f}, {:.3f}]\".format(CI2[0], CI2[1]))\n",
    "\n",
    "print(\"\\n\")\n",
    "\n",
    "print(\"Point estimate: \", pointEstimate2)\n",
    "print(\"\\n\")\n",
    "\n",
    "print(\"Probability that the max-min value is greater than 5: \", prob2)\n",
    "\n",
    "print(\"\\n\")\n",
    "\n",
    "plt.show()"
   ]
  },
  {
   "cell_type": "markdown",
   "metadata": {},
   "source": [
    "\n",
    "#### Part d) Discussion\n",
    "\n",
    "Taking a look at your work in parts c or d, use full English sentences to answer the following:\n",
    "\n",
    "i) In general, which returns a higher value: the maximum of minimums or the minimum of maximums?\n",
    "\n",
    "ii) Is there ever a case to prefer a min-of-max rather than a max-of-mins?  Suppose the goal is to return \"a 2 or higher\", which do we prefer?  Is this a different best choice from the goal of \"need to return exactly a 2?\"\n",
    "\n",
    "iii) What happens if the number of rolls in the selection increases?  For example, if I roll 100 dice in total, and take as my random variable the minimum of 10 sets of 10 maximums, how should this differ from the distribution in part b)?  You may simulate to verify your result, but should try to explain in plain English either way?"
   ]
  },
  {
   "cell_type": "markdown",
   "metadata": {},
   "source": [
    "Answer:\n",
    "\n",
    "i)   When comparing the expected value of the two distributions we can infer that minimum of maximums will generally return a higher value than the maximum of minimums."
   ]
  },
  {
   "cell_type": "markdown",
   "metadata": {},
   "source": [
    "ii)  \n",
    "\n",
    "- In case our goal was to return a 2 or higher, we would prefer max-min. By looking at the probability of getting a one in both distributions, it can be seen that the probability of getting a value of one is lower for max-min compared to min-max. (-about 0.02 probability of getting a one for max-min, compared to about 0.035 probability for min-max.) If we take the complement of the probabilities of getting a one for both distributions, we can find out the probability of getting a 2 or higher for both distributions.\n",
    "\n",
    "Thus,\n",
    "\n",
    "$\\quad P(X \\geq 2) \\;=\\; 1 - P(X = 1) \\;=\\; 1 - 0.02 \\;=\\; 0.98 \\;$, for max-min.\n",
    "\n",
    "Whereas,\n",
    "\n",
    "$\\quad P(X \\geq 2) \\;=\\; 1 - P(X = 1) \\;=\\; 1 - 0.035 \\;=\\; 0.965 \\;$, for min-max.\n",
    "\n",
    "Therefore, we can expect that generally, $Mm$ would return a value of two or greater more often than $mM$.\n",
    "\n",
    "- Now, regarding the case of our goal being getting exactly a 2, we would prefer min-max. By loking at the probability of getting a 2 in both distributions, it can be seen that the probability of getting a value of 2 is greater for min-max than for max-min. $mM$ has a probability of about $0.095$ for returning a value of 2, whereas $Mm$ has a probability of about $0.06$ for returning a value of 2.\n",
    "\n",
    "\n",
    "Thus,\n",
    "\n",
    "$\\quad P(X = 2) \\;=\\; 0.06 \\;$, for max-min.\n",
    "\n",
    "Whereas,\n",
    "\n",
    "$\\quad P(X = 2) \\;=\\; 0.095 \\;$, for min-max."
   ]
  },
  {
   "cell_type": "markdown",
   "metadata": {},
   "source": [
    "iii) \n",
    "\n",
    "- To begin, lets run a simulation of selecting the minimum of 10 maximums, out of 10 sets, each set being comprised of 10 rolls:"
   ]
  },
  {
   "cell_type": "code",
   "execution_count": 6,
   "metadata": {},
   "outputs": [
    {
     "name": "stdout",
     "output_type": "stream",
     "text": [
      "\n",
      "\n"
     ]
    },
    {
     "data": {
      "image/png": "[encoded data removed]",
      "text/plain": [
       "<Figure size 504x360 with 1 Axes>"
      ]
     },
     "metadata": {
      "needs_background": "light"
     },
     "output_type": "display_data"
    }
   ],
   "source": [
    "inc_mM =[]\n",
    "\n",
    "def computeIncreasedMaxs():\n",
    "    \n",
    "    maxRoll = 0\n",
    "    \n",
    "    for i in range(0,10):\n",
    "        \n",
    "        tempDraw = np.random.randint(1, 11)\n",
    "        \n",
    "        if tempDraw > maxRoll:\n",
    "            \n",
    "            maxRoll = tempDraw\n",
    "            \n",
    "    return maxRoll\n",
    "\n",
    "\n",
    "def computeIncreasedMins():\n",
    "    \n",
    "    minOfMax = 10\n",
    "    \n",
    "    for i in range(0,10):\n",
    "        \n",
    "        tempMin = computeIncreasedMaxs()\n",
    "        \n",
    "        if tempMin < minOfMax:\n",
    "            \n",
    "            minOfMax = tempMin\n",
    "            \n",
    "    return minOfMax\n",
    "\n",
    "\n",
    "for i in range(0,10000):\n",
    "        \n",
    "    tempInc_mM = computeIncreasedMins()\n",
    "    inc_mM.append(tempInc_mM)\n",
    "\n",
    "    \n",
    "    \n",
    "kwargs = dict(alpha=0.4, bins = [0.5,1.5,2.5,3.5,4.5,5.5,6.5,7.5,8.5,9.5,10.5], density=True, edgecolor='black', linewidth=0.5)\n",
    "\n",
    "fig, ax = plt.subplots(figsize=(7, 5)) \n",
    "\n",
    "ax.hist(inc_mM, **kwargs)\n",
    "\n",
    "ax.set_xticks([1,2,3,4,5,6,7,8,9,10])\n",
    "print(\"\\n\")"
   ]
  },
  {
   "cell_type": "markdown",
   "metadata": {},
   "source": [
    "- The change in the histogram is quite noticeable when comparing it to the histogram in part B). The mean is pushed to the right which means that we getting higher min-max values on average compared to the ones in B). The reason we are getting higher min-max values is that here we have 9 possible max values per min selection, instead of only one possible max value per min selection as in part B). This increases our chance of getting a higher value because after the first roll, we have 9 trials to get a new maximum. In part B), we only had one trial to get a bigger value than the one in the first roll."
   ]
  },
  {
   "cell_type": "markdown",
   "metadata": {},
   "source": [
    "<br>\n",
    "\n",
    "---\n",
    "<a/ id='p2'></a>\n",
    "[Back to top](#top)\n",
    "## [10 points] Problem 2 - A (very) small sample hypothesis test\n",
    "\n",
    "We're counting birds outside our work-from-home offices, and recording $X$, the number that pass between 2p-3p.  Let $X \\sim \\mathcal{P}(\\lambda)$. Suppose that we want to test the null hypothesis that $\\lambda = 15$, and the alternative hypothesis is that $\\lambda > 15$. Since we're just starting today, our sample size for this test is equal to 1.\n",
    "\t\n",
    "#### Part a)\n",
    " \n",
    "Naturally for a hypothesis test we might come up with a rejection region. Here, we will reject the null hypothesis if $X$ is greater than some number $c$ that represents \"too many birds\" for a process of $\\lambda = 15$. What value should we choose for $c$ such that the probability of a type I error is equal to $0.05$?\n",
    "\n",
    "(NB: for a discrete R.V., we more precisely ensure that P(Type I error) *is not more than* $0.05$)\n"
   ]
  },
  {
   "cell_type": "markdown",
   "metadata": {},
   "source": [
    "Answer:\n",
    "\n",
    "We are being told to assume that the random variable $X$, follows a poisson distribution with rate $\\lambda$ of 15 birds per hour. \n",
    "\n",
    "We are also given the null and alternative hypotheses,\n",
    "\n",
    "$$ N_{0}: \\; \\lambda = 15 \\newline N_a: \\; \\lambda > 15$$\n",
    "\n",
    "We need to find the $c$ number of birds corresponding to the critical $z$ value, which represents the starting point of the rejection region. In this specific case our rejection region is equal to 0.05, which also means that our confidence interval is of 95% confidence. Moreover, we are dealing with a right side one-tailed test, because our alternative hypothesis takes into account $\\lambda$ values greater than 15. \n",
    "\n",
    "- In order to find the $c$ value corresponding to our critical value $z_{0.95}$, we can use the following equation,\n",
    "\n",
    "$$\n",
    "x = \\mu + (z_{0.95}) \\left(\\frac{\\sigma}{\\sqrt{n}} \\right)\n",
    "$$\n",
    "\n",
    "(Note that the value $c$ we are trying to find is $x$ in the equation above.)\n",
    "\n",
    "Because we are dealing with a poisson RV, we can me use of the following formulas to find the mean and standard deviation,\n",
    "\n",
    "$$\n",
    " \\mu \\approx \\lambda = 15 \\newline \\sigma \\approx \\sqrt{\\lambda} = \\sqrt{15}\n",
    "$$\n",
    "\n",
    "Also, to find the $z_{0.95}$ we can look it up in the Z-score table for a one tailed test,\n",
    "\n",
    "$$\n",
    "z_{0.95} = 1.65\n",
    "$$\n",
    "\n",
    "Now we can find the value of $c$,\n",
    "\n",
    "$$\n",
    "c \\;=\\; 15 + (1.65)\\left(\\frac{\\sqrt{15}}{\\sqrt{1}} \\right) \\;\\approx\\; 21 \\text{  birds over an hour. (-too many birds)} \n",
    "$$\n",
    "\n",
    "\n",
    "\n"
   ]
  },
  {
   "cell_type": "markdown",
   "metadata": {},
   "source": [
    "\n",
    "#### Part b)\n",
    "\n",
    "If in reality, $\\lambda$ is *actually* equal to 20, what is the probability of making a type 2 error using the cut-off point from (a)?\n",
    "    \n",
    "    "
   ]
  },
  {
   "cell_type": "markdown",
   "metadata": {},
   "source": [
    "Answer:\n",
    "\n",
    "The probability of a type 2 error is the probability of not rejecting the null hypothesis when it is in fact, false. In the image below, the poisson distribution with $\\mu = 15$ is colored blue and the poisson distribution with $\\mu = 20$ is colored green. The red vertical line represents the \"cut-off\" point of \"too many birds\" for a poisson with $\\mu = 15$.  \n",
    "\n",
    "$\\newline$\n",
    "\n",
    "<div>\n",
    "<img src= \"PoissonDistributions.png\" width=450>\n",
    "<\\div>\n",
    "\n",
    "$\\newline$\n",
    "    \n",
    "Now, the probability of a type 2 error can be found by finding out the area to the left of the red cut-off line underneath the green poisson.\n",
    "\n",
    "    \n",
    "To figure this out we first need to know the $z$ score of the value $c$ to the mean $\\mu = 20$. Once we know that $z$ score we can look up the value of the area in a $z$ score table. \n",
    "    \n",
    "    Thus,\n",
    "    \n",
    "$$\n",
    "z \\text{ score} \\;=\\; \\frac{21-20}{\\sqrt{20}} \\;=\\; 0.22 \\text{  standard deviation from the mean.}\n",
    "$$\n",
    "    \n",
    "Now that we have our $z$ value we can look for the area under the green curve (-the $\\beta$ probability or type 2 error probability) by using a $z$ score table.\n",
    "    \n",
    "    Thus,\n",
    "    \n",
    "$$\n",
    "P(\\; \\text{Type 2 error} \\;) \\;=\\; 0.58 \n",
    "$$"
   ]
  },
  {
   "cell_type": "markdown",
   "metadata": {},
   "source": [
    "<br>\n",
    "\n",
    "---\n",
    "<a/ id='p3'></a>\n",
    "[Back to top](#top)\n",
    "## [10 points] Problem 3 - The power!\n",
    "\n",
    "\n",
    "Let $Y$ be the number of heads in 100 tosses of a possibly biased coin, with probability of heads on any toss $p$. Similar to the Belgian Euro example, we hope to *test* whether the coin is biased **toward heads**.\n",
    "\n",
    "#### Part a)\n",
    "\n",
    "State the null and alternative hypotheses.\n"
   ]
  },
  {
   "cell_type": "markdown",
   "metadata": {},
   "source": [
    "$$\n",
    "N_0:\\; p = 0.5 \\newline\n",
    "N_a:\\; p > 0.5\n",
    "$$"
   ]
  },
  {
   "cell_type": "markdown",
   "metadata": {},
   "source": [
    "\n",
    "#### Part b)\n",
    "Suppose we define the rejection region to be $Y > 58$. \n",
    "\n",
    "Calculate the rate of type I error of this test. (For this, and all remaining parts, calculate probabilities **exactly**, i.e., without using a normal approximation)\n"
   ]
  },
  {
   "cell_type": "code",
   "execution_count": 37,
   "metadata": {},
   "outputs": [
    {
     "name": "stdout",
     "output_type": "stream",
     "text": [
      "Probability of type 1 error (alpha): 0.0443\n"
     ]
    }
   ],
   "source": [
    "prob_type1 = 1 - stats.binom.cdf(58, 100, 0.5)\n",
    "print(\"Probability of type 1 error (alpha): {:.4f}\".format(prob_type1))"
   ]
  },
  {
   "cell_type": "markdown",
   "metadata": {},
   "source": [
    "\n",
    "#### Part c)\n",
    "\n",
    "Simulate a single dataset (or appropriate summary of a dataset) under the null hypothesis, and apply your test from part (a). State your conclusion. Is your conclusion in error? If so, which type?\n",
    "\n",
    "Repeat this process 1000 times in total and verify that the error rate appears consistent with your calculations in part b).\n"
   ]
  },
  {
   "cell_type": "code",
   "execution_count": 30,
   "metadata": {},
   "outputs": [
    {
     "name": "stdout",
     "output_type": "stream",
     "text": [
      "Y =  54\n"
     ]
    }
   ],
   "source": [
    "def hundredTrials():\n",
    "    \n",
    "    heads_count = 0\n",
    "\n",
    "    for i in range(0,100):\n",
    "\n",
    "        if stats.binom.rvs(1,0.5) == 1:\n",
    "            heads_count += 1\n",
    "\n",
    "    return heads_count\n",
    "\n",
    "\n",
    "\n",
    "single_dataset_heads = hundredTrials()\n",
    "\n",
    "print(\"Y = \", single_dataset_heads)"
   ]
  },
  {
   "cell_type": "markdown",
   "metadata": {},
   "source": [
    "- The result of 54 heads for 100 trials falls outside the rejection region, which means we would accept the null hypothesis that $p = 0.5$. The kind of error we could be in is a Type 2 error, which means that it could be the case that we are accepting a null hypothesis when it is in fact false."
   ]
  },
  {
   "cell_type": "code",
   "execution_count": 48,
   "metadata": {},
   "outputs": [
    {
     "name": "stdout",
     "output_type": "stream",
     "text": [
      "Number of 100 flip runs with more than 58 heads over 1000 runs:  46\n",
      "Percentage of possibly biased coins over 1000 runs:  0.046\n"
     ]
    }
   ],
   "source": [
    "possibly_biased_coins = 0\n",
    "\n",
    "for i in range(0,1000):\n",
    "    \n",
    "    hundo_trials = hundredTrials()\n",
    "    \n",
    "    if hundo_trials > 58:\n",
    "        possibly_biased_coins += 1\n",
    "\n",
    "    \n",
    "\n",
    "print(\"Number of 100 flip runs with more than 58 heads over 1000 runs: \", possibly_biased_coins)\n",
    "\n",
    "sim_prob_type1 = possibly_biased_coins/1000\n",
    "\n",
    "print(\"Percentage of possibly biased coins over 1000 runs: \", sim_prob_type1)"
   ]
  },
  {
   "cell_type": "markdown",
   "metadata": {},
   "source": [
    "- Our error rate looks consistent with the one in part b). The error rate from the 1000 runs of a 100 coin flips agrees with the error rate in b) to two decimal places."
   ]
  },
  {
   "cell_type": "markdown",
   "metadata": {},
   "source": [
    "#### Part d)\n",
    "Consider that the *reality* of a biased coin could take on any number of possible different values of actual bias $p$.  Construct a grid/list of possible values $p$ for the alternative hypothesis $p_{alt}=[0.51,0.52,0.53, \\dots .99, 1.00]$.\n",
    "\n",
    "For each value of $p$ in this list, calculate the power of the test from part $a$.  Return exact values rather than simulated/estimated probabilities.\n",
    "\n",
    "(Recall: statistical **power** is the probability of rejecting the null hypothesis while the alternative hypothesis is true). \n",
    "\n",
    "Plot the power ($y$-axis) against $p$ ($x$-axis) over each of these scenarios. \n",
    "\n",
    "Interpret/comment on this plot. Specifically, as $p$ gets *further* from the specified $p=p_0$ under the null hypothesis, what happens to the power?"
   ]
  },
  {
   "cell_type": "markdown",
   "metadata": {},
   "source": [
    "- We can find the statistical power by finding the probability of type two error for a given alternative hypothesis probability $p_{\\text{alt}}$. Power = 1 - $\\beta \\;$, where beta is the probability of the Type 2 error or the probability of not rejecting a false null hypothesis.\n",
    "\n"
   ]
  },
  {
   "cell_type": "code",
   "execution_count": 183,
   "metadata": {},
   "outputs": [
    {
     "data": {
      "image/png": "[encoded data removed]",
      "text/plain": [
       "<Figure size 432x288 with 1 Axes>"
      ]
     },
     "metadata": {
      "needs_background": "light"
     },
     "output_type": "display_data"
    }
   ],
   "source": [
    "p_alt = 0.50\n",
    "x_axis = []\n",
    "\n",
    "def calculateBeta(p_alt):\n",
    "    \n",
    "    beta = stats.binom.cdf(58, 100, p_alt)\n",
    "    return beta\n",
    "\n",
    "power_per_p = []\n",
    "\n",
    "for i in range(0,50):\n",
    "    \n",
    "    p_alt += 0.01\n",
    "    x_axis.append(p_alt)\n",
    "    \n",
    "    power = 1 - calculateBeta(p_alt)\n",
    "    power_per_p.append(power)\n",
    "    \n",
    "    \n",
    "\n",
    "plt.plot(x_axis , power_per_p, 'o')\n",
    "plt.ylabel('beta')\n",
    "plt.xlabel('p alt')\n",
    "\n",
    "#ax.set_xticks(x_axis)\n",
    "plt.show()"
   ]
  },
  {
   "cell_type": "markdown",
   "metadata": {},
   "source": [
    "- As our alterlative probability $p_{alt}$ gets further away from $p_0$, the power increases. Also, when the alternative (biased-coin) probability crosses 0.7, the power $\\approx$ 100%."
   ]
  },
  {
   "cell_type": "markdown",
   "metadata": {},
   "source": [
    "#### Part e)\n",
    "\n",
    "(e) Suppose we allowed other rejection regions than $Y>58$.  Use the ideas in part (d) to answer the following: how many flips $m$ of a coin are necessary to achieve both $\\alpha=0.05$ **and** $\\beta=0.05$ for the hypothesis in part (a)?"
   ]
  },
  {
   "cell_type": "markdown",
   "metadata": {},
   "source": [
    "- I am not sure what $m$ is supposed to represent by the information given on the question. $m$ could be interpreted by the number of trials instead of 100. However, $m$ could also represent the number of heads over a 100 trials. (-$m$ represents $Y$). Moreover, $m$ could represent the value of our alternative hypothesis. \n",
    "\n",
    "\n",
    "Given our null hypothesis is $p = 0.5$ with a cut-off region of 58 heads in a 100 rolls, we would have approximately the same values for alpha and beta, in case the alternative hypothesis was that $p = 0.666$ or if through an experiment we had gotten 66 heads in 100 trials. "
   ]
  },
  {
   "cell_type": "code",
   "execution_count": 144,
   "metadata": {},
   "outputs": [
    {
     "name": "stdout",
     "output_type": "stream",
     "text": [
      "Beta for an alternative probability p = 0.66: 0.0447\n",
      "Probability of type 1 error (alpha): 0.0443\n"
     ]
    }
   ],
   "source": [
    "test2 = stats.binom.cdf(58, 100, 0.666)\n",
    "\n",
    "print(\"Beta for an alternative probability p = 0.66: {:.4f}\".format(test2))\n",
    "\n",
    "prob_type1 = 1 - stats.binom.cdf(58, 100, 0.5)\n",
    "print(\"Probability of type 1 error (alpha): {:.4f}\".format(prob_type1))\n"
   ]
  },
  {
   "cell_type": "markdown",
   "metadata": {},
   "source": [
    "Now, if we think of $m$ being the number of trials instead of a hundred, we can see that for values of $m$ greater than a million, we would get values of both alpha and beta equal to $0.05$ ."
   ]
  },
  {
   "cell_type": "code",
   "execution_count": 179,
   "metadata": {},
   "outputs": [
    {
     "name": "stdout",
     "output_type": "stream",
     "text": [
      "0.054688436412823505\n",
      "0.05491014307175547\n"
     ]
    }
   ],
   "source": [
    "alpha2 = 1 - stats.binom.cdf(500800, 1000000, 0.50)\n",
    "\n",
    "beta2 = stats.binom.cdf(500000, 1000000, 0.5008)\n",
    "\n",
    "print(alpha2)\n",
    "\n",
    "print(beta2)"
   ]
  },
  {
   "cell_type": "code",
   "execution_count": null,
   "metadata": {},
   "outputs": [],
   "source": []
  }
 ],
 "metadata": {
  "kernelspec": {
   "display_name": "Python 3",
   "language": "python",
   "name": "python3"
  },
  "language_info": {
   "codemirror_mode": {
    "name": "ipython",
    "version": 3
   },
   "file_extension": ".py",
   "mimetype": "text/x-python",
   "name": "python",
   "nbconvert_exporter": "python",
   "pygments_lexer": "ipython3",
   "version": "3.8.6"
  }
 },
 "nbformat": 4,
 "nbformat_minor": 4
}
